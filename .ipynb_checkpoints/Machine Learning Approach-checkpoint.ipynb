{
 "cells": [
  {
   "cell_type": "markdown",
   "id": "8db20261",
   "metadata": {},
   "source": [
    "# Machine Learning Approach\n",
    "## Steps Followed are:\n",
    "1. Understand the problem / dataset. Size of dataset ddoes not matter\n",
    "2. Extract features from the dataset\n",
    "3. Identify the problem type eg data is categorical or has som econtinous set of values\n",
    "4. Choose the appropriate model.\n",
    "5. Train and test the model.\n",
    "6. Strive for accuracy. Fine Tune your model to ensure it works optimally.\n"
   ]
  },
  {
   "cell_type": "markdown",
   "id": "95cc706e",
   "metadata": {},
   "source": [
    "### Steps One and Two.\n"
   ]
  },
  {
   "cell_type": "markdown",
   "id": "a21c7037",
   "metadata": {},
   "source": [
    "### Steps three and four.\n",
    "#### Supervised Learning\n",
    "Used to predict an outcome.\n",
    "Examples of models are Regression (continous data), classification (categorical data) \n",
    "\n",
    "\n",
    "#### Unsupervised Learning\n",
    "The response or outcdome is not known.\n",
    "Examples are Dimensionality Reduction (continous data), and Clustering (categorical data) "
   ]
  },
  {
   "cell_type": "markdown",
   "id": "247c4852",
   "metadata": {},
   "source": [
    "### Steps five and Six\n",
    "Training and testing. split a dataset into training and testing. It gives greater accuracy."
   ]
  },
  {
   "cell_type": "markdown",
   "id": "aa8c1f8c",
   "metadata": {},
   "source": [
    "### Supervised model considerations.\n",
    "1. Response\n",
    "2. Feature\n",
    "They directly affect the outcome.\n",
    "Fine tune the model to obtain model optimization and accuracy."
   ]
  }
 ],
 "metadata": {
  "kernelspec": {
   "display_name": "Python 3",
   "language": "python",
   "name": "python3"
  },
  "language_info": {
   "codemirror_mode": {
    "name": "ipython",
    "version": 3
   },
   "file_extension": ".py",
   "mimetype": "text/x-python",
   "name": "python",
   "nbconvert_exporter": "python",
   "pygments_lexer": "ipython3",
   "version": "3.8.8"
  }
 },
 "nbformat": 4,
 "nbformat_minor": 5
}
