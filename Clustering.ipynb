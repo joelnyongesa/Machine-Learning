{
 "cells": [
  {
   "cell_type": "markdown",
   "id": "7f4f492b",
   "metadata": {},
   "source": [
    "Is a way to group similar points"
   ]
  },
  {
   "cell_type": "markdown",
   "id": "1d7de8a6",
   "metadata": {},
   "source": [
    "# K Means"
   ]
  },
  {
   "cell_type": "code",
   "execution_count": 2,
   "id": "87dbb0fa",
   "metadata": {},
   "outputs": [],
   "source": [
    "import numpy as np\n",
    "from sklearn.cluster import KMeans\n",
    "from sklearn.datasets import make_blobs"
   ]
  },
  {
   "cell_type": "code",
   "execution_count": 3,
   "id": "f1e7379b",
   "metadata": {},
   "outputs": [
    {
     "data": {
      "text/plain": [
       "array([1, 1, 2, 1, 0, 0, 1, 1, 2, 1, 2, 0, 1, 0, 2, 2, 0, 1, 2, 1, 0, 1,\n",
       "       1, 1, 0, 0, 2, 2, 2, 1, 1, 0, 2, 2, 2, 0, 2, 2, 0, 1, 0, 1, 2, 2,\n",
       "       2, 1, 2, 0, 1, 1, 2, 2, 1, 0, 0, 1, 1, 2, 1, 2, 0, 1, 1, 0, 0, 2,\n",
       "       2, 1, 1, 0, 2, 1, 0, 1, 2, 2, 1, 0, 1, 1, 0, 1, 0, 0, 0, 2, 2, 2,\n",
       "       2, 1, 1, 2, 1, 2, 1, 2, 1, 1, 1, 0, 2, 1, 1, 2, 0, 1, 1, 1, 2, 2,\n",
       "       1, 0, 0, 0, 0, 0, 1, 0, 0, 2, 2, 0, 1, 0, 0, 0, 1, 0, 0, 1, 2, 0,\n",
       "       1, 1, 2, 2, 2, 0, 2, 1, 1, 0, 1, 1, 1, 1, 2, 0, 0, 2, 1, 1, 1, 2,\n",
       "       1, 1, 2, 2, 2, 0, 0, 2, 0, 2, 2, 2, 2, 2, 2, 1, 2, 1, 2, 0, 0, 2,\n",
       "       0, 0, 1, 1, 1, 0, 0, 2, 0, 0, 2, 2, 1, 0, 0, 0, 0, 2, 1, 2, 2, 2,\n",
       "       2, 1, 1, 2, 2, 0, 0, 0, 2, 2, 0, 0, 2, 2, 1, 2, 2, 2, 1, 0, 2, 0,\n",
       "       2, 1, 2, 2, 2, 2, 0, 0, 1, 0, 1, 2, 0, 0, 0, 1, 0, 1, 0, 0, 0, 1,\n",
       "       2, 1, 1, 2, 1, 2, 0, 1, 1, 2, 2, 0, 0, 1, 0, 0, 0, 1, 0, 2, 2, 1,\n",
       "       1, 0, 0, 0, 1, 2, 1, 0, 2, 0, 1, 1, 0, 0, 1, 2, 1, 1, 0, 0, 2, 2,\n",
       "       0, 0, 1, 0, 0, 2, 1, 1, 1, 2, 0, 0, 0, 2])"
      ]
     },
     "execution_count": 3,
     "metadata": {},
     "output_type": "execute_result"
    }
   ],
   "source": [
    "# vDefine the number of samples\n",
    "n_samples = 300\n",
    "\n",
    "#Define random state value to initialize the center\n",
    "random_state = 20\n",
    "\n",
    "#Define the number of features as 5\n",
    "X, y = make_blobs(n_features=5, n_samples= n_samples)\n",
    "\n",
    "# Define the number of clusters to be formed as 3 and in random state fit features into the model\n",
    "predict_y = KMeans(n_clusters=3, random_state=random_state).fit_predict(X)\n",
    "\n",
    "predict_y"
   ]
  },
  {
   "cell_type": "code",
   "execution_count": null,
   "id": "2fe84314",
   "metadata": {},
   "outputs": [],
   "source": []
  }
 ],
 "metadata": {
  "kernelspec": {
   "display_name": "Python 3 (ipykernel)",
   "language": "python",
   "name": "python3"
  },
  "language_info": {
   "codemirror_mode": {
    "name": "ipython",
    "version": 3
   },
   "file_extension": ".py",
   "mimetype": "text/x-python",
   "name": "python",
   "nbconvert_exporter": "python",
   "pygments_lexer": "ipython3",
   "version": "3.9.12"
  }
 },
 "nbformat": 4,
 "nbformat_minor": 5
}
