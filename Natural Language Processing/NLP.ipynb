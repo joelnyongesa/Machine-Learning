{
 "cells": [
  {
   "cell_type": "markdown",
   "id": "a1968a17",
   "metadata": {},
   "source": [
    "# Natural Language Processing\n",
    "## Definitions\n",
    "1. Word Boundaries - Determines where one word ends and the other word begins.\n",
    "2. Tokenization - Splits words, idioms and phrases.\n",
    "3. Steaming - Maps to the valid root word\n",
    "4. Tf-idf - Represents term frequency and inverse document frequency\n",
    "5. Semantic analytics - Compares words, phrases and iddioms in a set of documents to extract meaning.\n",
    "6. Disambiguation - Determines meaning and sense of words (context vs intent)\n",
    "7. Topic Models - Discover topics in a collection of documents.\n",
    "\n",
    "## NLP Approach for Text Data\n",
    "Conduct basic text processing\n",
    "categorize and tag words\n",
    "Classify text\n",
    "Extractinformation\n",
    "Analyze sentence structure\n",
    "Build feature based structure\n",
    "Analyze the meaning\n"
   ]
  },
  {
   "cell_type": "markdown",
   "id": "4d5e3aba",
   "metadata": {},
   "source": [
    "## NLP Application\n",
    "### 1. Machine translation\n",
    "Used to translate one language to another.\n",
    "### 2. Speech Recognition\n",
    "Speech recognition application understands human speech and uses it as input information. Applications are Siri, Google Now, Microsoft Cortana\n",
    "### 3. Sentiment Analysis\n",
    "Achieved by processing tons of data received from different interfaces and sources. Example isusing all social media activities to find out the popular topic of discussion"
   ]
  },
  {
   "cell_type": "markdown",
   "id": "a13bf005",
   "metadata": {},
   "source": [
    "# NLP Libraries\n",
    "1. NLTK\n",
    "2. Sci-kit Learn\n",
    "3. TextBlob\n",
    "4. SpaCy"
   ]
  }
 ],
 "metadata": {
  "kernelspec": {
   "display_name": "Python 3 (ipykernel)",
   "language": "python",
   "name": "python3"
  },
  "language_info": {
   "codemirror_mode": {
    "name": "ipython",
    "version": 3
   },
   "file_extension": ".py",
   "mimetype": "text/x-python",
   "name": "python",
   "nbconvert_exporter": "python",
   "pygments_lexer": "ipython3",
   "version": "3.9.12"
  }
 },
 "nbformat": 4,
 "nbformat_minor": 5
}
