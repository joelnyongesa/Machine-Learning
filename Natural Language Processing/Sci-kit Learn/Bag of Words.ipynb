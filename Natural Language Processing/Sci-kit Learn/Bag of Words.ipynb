{
 "cells": [
  {
   "cell_type": "code",
   "execution_count": 1,
   "id": "8db9269a",
   "metadata": {},
   "outputs": [],
   "source": [
    "# Importing the libraries\n",
    "from sklearn.feature_extraction.text import CountVectorizer"
   ]
  },
  {
   "cell_type": "code",
   "execution_count": 2,
   "id": "571be927",
   "metadata": {},
   "outputs": [],
   "source": [
    "# Instantiate the vectorizer\n",
    "vectorizer = CountVectorizer()"
   ]
  },
  {
   "cell_type": "code",
   "execution_count": 3,
   "id": "b020db96",
   "metadata": {},
   "outputs": [],
   "source": [
    "# Create 3 documents\n",
    "document1 = \"Hi How are you\"\n",
    "document2 = \"Today was a very very pleasant day and we had some fun fun fun\"\n",
    "document3 = \"This was an amazing experience\""
   ]
  },
  {
   "cell_type": "code",
   "execution_count": 6,
   "id": "2e854dbd",
   "metadata": {},
   "outputs": [],
   "source": [
    "# Put all the documents together as a list\n",
    "listofdocuments = [document1, document2, document3]"
   ]
  },
  {
   "cell_type": "code",
   "execution_count": 7,
   "id": "297a9a02",
   "metadata": {},
   "outputs": [],
   "source": [
    "# fit them as a bag of words\n",
    "bag_of_words = vectorizer.fit(listofdocuments)"
   ]
  },
  {
   "cell_type": "code",
   "execution_count": 8,
   "id": "43147ec8",
   "metadata": {},
   "outputs": [
    {
     "data": {
      "text/plain": [
       "CountVectorizer()"
      ]
     },
     "execution_count": 8,
     "metadata": {},
     "output_type": "execute_result"
    }
   ],
   "source": [
    "bag_of_words"
   ]
  },
  {
   "cell_type": "code",
   "execution_count": 9,
   "id": "06373fc2",
   "metadata": {},
   "outputs": [],
   "source": [
    "# apply transform method\n",
    "bag_of_words = vectorizer.transform(listofdocuments)"
   ]
  },
  {
   "cell_type": "code",
   "execution_count": 11,
   "id": "f33177b0",
   "metadata": {},
   "outputs": [
    {
     "name": "stdout",
     "output_type": "stream",
     "text": [
      "  (0, 3)\t1\n",
      "  (0, 8)\t1\n",
      "  (0, 9)\t1\n",
      "  (0, 17)\t1\n",
      "  (1, 2)\t1\n",
      "  (1, 4)\t1\n",
      "  (1, 6)\t3\n",
      "  (1, 7)\t1\n",
      "  (1, 10)\t1\n",
      "  (1, 11)\t1\n",
      "  (1, 13)\t1\n",
      "  (1, 14)\t2\n",
      "  (1, 15)\t1\n",
      "  (1, 16)\t1\n",
      "  (2, 0)\t1\n",
      "  (2, 1)\t1\n",
      "  (2, 5)\t1\n",
      "  (2, 12)\t1\n",
      "  (2, 15)\t1\n"
     ]
    }
   ],
   "source": [
    "print(bag_of_words)"
   ]
  },
  {
   "cell_type": "code",
   "execution_count": 12,
   "id": "5bff8e16",
   "metadata": {},
   "outputs": [
    {
     "name": "stdout",
     "output_type": "stream",
     "text": [
      "14\n",
      "6\n"
     ]
    }
   ],
   "source": [
    "# verify the vocabulary for repeated word\n",
    "print(vectorizer.vocabulary_.get('very'))\n",
    "print(vectorizer.vocabulary_.get('fun'))"
   ]
  },
  {
   "cell_type": "code",
   "execution_count": 13,
   "id": "9e731eff",
   "metadata": {},
   "outputs": [
    {
     "data": {
      "text/plain": [
       "scipy.sparse.csr.csr_matrix"
      ]
     },
     "execution_count": 13,
     "metadata": {},
     "output_type": "execute_result"
    }
   ],
   "source": [
    "# check the type of bag of words\n",
    "type(bag_of_words)"
   ]
  }
 ],
 "metadata": {
  "kernelspec": {
   "display_name": "Python 3 (ipykernel)",
   "language": "python",
   "name": "python3"
  },
  "language_info": {
   "codemirror_mode": {
    "name": "ipython",
    "version": 3
   },
   "file_extension": ".py",
   "mimetype": "text/x-python",
   "name": "python",
   "nbconvert_exporter": "python",
   "pygments_lexer": "ipython3",
   "version": "3.9.12"
  }
 },
 "nbformat": 4,
 "nbformat_minor": 5
}
