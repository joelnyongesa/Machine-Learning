{
 "cells": [
  {
   "cell_type": "markdown",
   "id": "50329320",
   "metadata": {},
   "source": [
    "# Sparse\n",
    "Utility to deal with sparse matrix while storing them in memory\n",
    "\n",
    "# Vectorizer\n",
    "Implements tokenization and occurence\n",
    "\n",
    "#  Tf-idf\n",
    "Term weighing utility for term frequency and inverse document frequency\n",
    "\n",
    "# Decoding\n",
    "Can decode textfiles if their encodu=ing is defined."
   ]
  }
 ],
 "metadata": {
  "kernelspec": {
   "display_name": "Python 3 (ipykernel)",
   "language": "python",
   "name": "python3"
  },
  "language_info": {
   "codemirror_mode": {
    "name": "ipython",
    "version": 3
   },
   "file_extension": ".py",
   "mimetype": "text/x-python",
   "name": "python",
   "nbconvert_exporter": "python",
   "pygments_lexer": "ipython3",
   "version": "3.9.12"
  }
 },
 "nbformat": 4,
 "nbformat_minor": 5
}
