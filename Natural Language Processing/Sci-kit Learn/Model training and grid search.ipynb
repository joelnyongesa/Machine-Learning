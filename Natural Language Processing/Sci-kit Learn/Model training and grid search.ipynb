{
 "cells": [
  {
   "cell_type": "markdown",
   "id": "9ff41a68",
   "metadata": {},
   "source": [
    "# Naive Bayes\n",
    "Most basic technique for classifying text\n",
    "\n",
    "## Advantages\n",
    "Efficient as it uses limited CPU\n",
    "Fast as less time is used for model training\n",
    "\n",
    "## Uses.\n",
    "Sentiment analysis, email spam detection, language detection, categorization of documents\n",
    "\n",
    "\n",
    "# Grid Search and Multiple Parameters.\n",
    "Helps search best paraameters for training and predicting the outcome directly.\n",
    "\n",
    "\n",
    "# Pipeline\n",
    "Is a combination of vectorizers, transformers and model training"
   ]
  },
  {
   "cell_type": "code",
   "execution_count": null,
   "id": "846a0c38",
   "metadata": {},
   "outputs": [],
   "source": []
  }
 ],
 "metadata": {
  "kernelspec": {
   "display_name": "Python 3 (ipykernel)",
   "language": "python",
   "name": "python3"
  },
  "language_info": {
   "codemirror_mode": {
    "name": "ipython",
    "version": 3
   },
   "file_extension": ".py",
   "mimetype": "text/x-python",
   "name": "python",
   "nbconvert_exporter": "python",
   "pygments_lexer": "ipython3",
   "version": "3.9.12"
  }
 },
 "nbformat": 4,
 "nbformat_minor": 5
}
