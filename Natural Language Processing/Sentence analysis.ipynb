{
 "cells": [
  {
   "cell_type": "code",
   "execution_count": 1,
   "id": "177a21ca",
   "metadata": {},
   "outputs": [],
   "source": [
    "# Importing the packages.\n",
    "import string\n",
    "from nltk.corpus import stopwords"
   ]
  },
  {
   "cell_type": "code",
   "execution_count": 2,
   "id": "1c2468b9",
   "metadata": {},
   "outputs": [
    {
     "data": {
      "text/plain": [
       "['i', 'me', 'my', 'myself', 'we', 'our', 'ours', 'ourselves', 'you', \"you're\"]"
      ]
     },
     "execution_count": 2,
     "metadata": {},
     "output_type": "execute_result"
    }
   ],
   "source": [
    "# View first 10 stopwords present in englieh corpus\n",
    "stopwords.words('english')[0:10]"
   ]
  },
  {
   "cell_type": "code",
   "execution_count": 3,
   "id": "e91f3183",
   "metadata": {},
   "outputs": [],
   "source": [
    "# create a test sentence.\n",
    "test_sentence= \"This is my first sentence. Wow! We are doing just fine\""
   ]
  },
  {
   "cell_type": "code",
   "execution_count": 5,
   "id": "5104f0d1",
   "metadata": {},
   "outputs": [
    {
     "data": {
      "text/plain": [
       "['T',\n",
       " 'h',\n",
       " 'i',\n",
       " 's',\n",
       " ' ',\n",
       " 'i',\n",
       " 's',\n",
       " ' ',\n",
       " 'm',\n",
       " 'y',\n",
       " ' ',\n",
       " 'f',\n",
       " 'i',\n",
       " 'r',\n",
       " 's',\n",
       " 't',\n",
       " ' ',\n",
       " 's',\n",
       " 'e',\n",
       " 'n',\n",
       " 't',\n",
       " 'e',\n",
       " 'n',\n",
       " 'c',\n",
       " 'e',\n",
       " ' ',\n",
       " 'W',\n",
       " 'o',\n",
       " 'w',\n",
       " ' ',\n",
       " 'W',\n",
       " 'e',\n",
       " ' ',\n",
       " 'a',\n",
       " 'r',\n",
       " 'e',\n",
       " ' ',\n",
       " 'd',\n",
       " 'o',\n",
       " 'i',\n",
       " 'n',\n",
       " 'g',\n",
       " ' ',\n",
       " 'j',\n",
       " 'u',\n",
       " 's',\n",
       " 't',\n",
       " ' ',\n",
       " 'f',\n",
       " 'i',\n",
       " 'n',\n",
       " 'e']"
      ]
     },
     "execution_count": 5,
     "metadata": {},
     "output_type": "execute_result"
    }
   ],
   "source": [
    "# Eliminate the punctuations in form of characters and print them\n",
    "no_puncuation = [char for char in test_sentence if char not in string.punctuation]\n",
    "no_puncuation"
   ]
  },
  {
   "cell_type": "code",
   "execution_count": 7,
   "id": "abbdb843",
   "metadata": {},
   "outputs": [
    {
     "data": {
      "text/plain": [
       "'This is my first sentence Wow We are doing just fine'"
      ]
     },
     "execution_count": 7,
     "metadata": {},
     "output_type": "execute_result"
    }
   ],
   "source": [
    "# Now eliminate the punctuation and print them as a whole sentence\n",
    "no_puncuation = ''.join(no_puncuation)\n",
    "no_puncuation"
   ]
  },
  {
   "cell_type": "code",
   "execution_count": 8,
   "id": "049d319e",
   "metadata": {},
   "outputs": [
    {
     "data": {
      "text/plain": [
       "['This',\n",
       " 'is',\n",
       " 'my',\n",
       " 'first',\n",
       " 'sentence',\n",
       " 'Wow',\n",
       " 'We',\n",
       " 'are',\n",
       " 'doing',\n",
       " 'just',\n",
       " 'fine']"
      ]
     },
     "execution_count": 8,
     "metadata": {},
     "output_type": "execute_result"
    }
   ],
   "source": [
    "# Split each words present in the sentence\n",
    "no_puncuation.split()"
   ]
  },
  {
   "cell_type": "code",
   "execution_count": 10,
   "id": "6b806f99",
   "metadata": {},
   "outputs": [],
   "source": [
    "# Eliminate the stopwords\n",
    "clean_sentence = [word for word in no_puncuation.split() if word.lower() not in stopwords.words('english')]"
   ]
  },
  {
   "cell_type": "code",
   "execution_count": 11,
   "id": "256e5cec",
   "metadata": {},
   "outputs": [
    {
     "data": {
      "text/plain": [
       "['first', 'sentence', 'Wow', 'fine']"
      ]
     },
     "execution_count": 11,
     "metadata": {},
     "output_type": "execute_result"
    }
   ],
   "source": [
    "# Printthe clean sentence\n",
    "clean_sentence"
   ]
  }
 ],
 "metadata": {
  "kernelspec": {
   "display_name": "Python 3 (ipykernel)",
   "language": "python",
   "name": "python3"
  },
  "language_info": {
   "codemirror_mode": {
    "name": "ipython",
    "version": 3
   },
   "file_extension": ".py",
   "mimetype": "text/x-python",
   "name": "python",
   "nbconvert_exporter": "python",
   "pygments_lexer": "ipython3",
   "version": "3.9.12"
  }
 },
 "nbformat": 4,
 "nbformat_minor": 5
}
